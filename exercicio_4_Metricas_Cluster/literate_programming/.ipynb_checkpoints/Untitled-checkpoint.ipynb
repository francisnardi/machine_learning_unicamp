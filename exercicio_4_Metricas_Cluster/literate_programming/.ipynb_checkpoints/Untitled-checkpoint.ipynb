{
 "cells": [
  {
   "cell_type": "markdown",
   "metadata": {},
   "source": [
    "**Titulo:** Exercício 4 - k-means, métricas internas e métricas externas <br>\n",
    "**Autor:** Juan Sebastián Beleño Díaz <br>\n",
    "**Data:** 25 de Outubro de 2016 <br>\n",
    "\n",
    "## Introdução\n",
    "Neste trabalho é implementado um k-means para agrupar um conjunto de dados em *clusters* de diferentes tamanhos. Além disso, são utilizadas métricas internas e externas para evaluar os *clusters*.\n",
    "\n",
    "## Dados\n",
    "Os arquivos usados neste trabalho são [cluster-data.csv](http://www.ic.unicamp.br/%7Ewainer/cursos/2s2016/ml/cluster-data.csv) e [cluster-data-class.csv](http://www.ic.unicamp.br/%7Ewainer/cursos/2s2016/ml/cluster-data-class.csv) que pertencem ao conjunto de dados [Activity Recognition from Single Chest-Mounted Accelerometer Data Set](https://archive.ics.uci.edu/ml/datasets/Activity+Recognition+from+Single+Chest-Mounted+Accelerometer). O conjunto de dados foi coletado de pessoas relizando diferentes padrões de movimentos. O arquivo *cluster-data.csv* contem as cordenadas (x,y,z) das pessoas realizando os padrões de movimentos. O arquivo *cluster-data-class.csv* tem o tipo de padrão de movimento feito pelas pessoas.\n",
    "\n",
    "## Preparação dos dados\n",
    "Antes de começar trablahar com os dados é preciso incluir as dependecias do projeto:"
   ]
  },
  {
   "cell_type": "code",
   "execution_count": 43,
   "metadata": {
    "collapsed": true
   },
   "outputs": [],
   "source": [
    "%matplotlib inline\n",
    "\n",
    "# Loading the libraries\n",
    "import numpy as np\n",
    "import pandas as pd\n",
    "import matplotlib.pyplot as plt\n",
    "\n",
    "from sklearn.cluster import KMeans\n",
    "from sklearn import metrics"
   ]
  },
  {
   "cell_type": "markdown",
   "metadata": {},
   "source": [
    "Existem muitas maneiras de abrir os arquivos e obter os dados, mas neste caso foi usado *pandas* para obter os *dataframes* diretamente desde a URL."
   ]
  },
  {
   "cell_type": "code",
   "execution_count": 44,
   "metadata": {
    "collapsed": true
   },
   "outputs": [],
   "source": [
    "# Defining the URIs with raw data\n",
    "url_parameters = 'http://www.ic.unicamp.br/~wainer/cursos/2s2016/ml/cluster-data.csv'\n",
    "url_classes = 'http://www.ic.unicamp.br/~wainer/cursos/2s2016/ml/cluster-data-class.csv'\n",
    "\n",
    "# Reading the files with the raw data\n",
    "df_parameters = pd.read_csv(url_parameters, header = 0, delimiter = \",\")\n",
    "df_classes = pd.read_csv(url_classes, header = 0, delimiter = \",\")"
   ]
  },
  {
   "cell_type": "markdown",
   "metadata": {},
   "source": [
    "Embaixo é apresentado um conjunto de variáveis necessárias para executar o k-means e aplicar as metricas(internas e externas). "
   ]
  },
  {
   "cell_type": "code",
   "execution_count": 45,
   "metadata": {
    "collapsed": true
   },
   "outputs": [],
   "source": [
    "# k values to iterate until get a good k\n",
    "k_parameters = range(2, 11)\n",
    "\n",
    "# Number of restarts\n",
    "n_restarts = 5\n",
    "\n",
    "best_internal_score = 0 # This is for Calinski Harabaz score\n",
    "best_internal_k = 2\n",
    "\n",
    "best_external_score = -1 # This is the minimum value for adjusted rand score\n",
    "best_external_k = 2\n",
    "\n",
    "# Matrix for external and internal metrics\n",
    "# First line is for k values\n",
    "# Second line is for internal metrics\n",
    "# Third line is for external metrics\n",
    "matrix_plot = [[0]*9 for i in range(3)]"
   ]
  },
  {
   "cell_type": "markdown",
   "metadata": {},
   "source": [
    "## Busca dos Clusters usando k-means\n",
    "Neste código é usado k-means para obter clusters de diferentes tamanho usando Calinski Harabaz Index como métrica interna e Adjusted Rand Index como métrica externa. As métricas são armazenadas numa matriz que será usada para plotar um gráfico do comportamento das métricas segundo o valor de k."
   ]
  },
  {
   "cell_type": "code",
   "execution_count": 46,
   "metadata": {
    "collapsed": true
   },
   "outputs": [],
   "source": [
    "for k in k_parameters:\n",
    "    \n",
    "    # Declaring the model with k clusters\n",
    "    k_means_model = KMeans(k, n_init = n_restarts)\n",
    "    k_means_model.fit(df_parameters)\n",
    "    \n",
    "    \n",
    "    # Internal metric\n",
    "    predicted_labels = k_means_model.labels_\n",
    "    internal_score = metrics.calinski_harabaz_score(df_parameters, predicted_labels)\n",
    "    \n",
    "    #print('Internal score: ', k,' - ',internal_score)\n",
    "    if internal_score > best_internal_score:\n",
    "        best_internal_score = internal_score\n",
    "        best_internal_k = k\n",
    "        \n",
    "    \n",
    "    # External metric\n",
    "    true_labels = np.ravel(df_classes)\n",
    "    external_score = metrics.adjusted_rand_score(true_labels, predicted_labels)\n",
    "    #print('External score: ',k,' - ',external_score) \n",
    "    if external_score > best_external_score:\n",
    "        best_external_score = external_score\n",
    "        best_external_k = k\n",
    "        \n",
    "    \n",
    "    # Filling the matrix with metrics\n",
    "    matrix_plot[0][k-2] = k\n",
    "    matrix_plot[1][k-2] = internal_score\n",
    "    matrix_plot[2][k-2] = external_score"
   ]
  },
  {
   "cell_type": "markdown",
   "metadata": {},
   "source": [
    "## Resultados"
   ]
  },
  {
   "cell_type": "code",
   "execution_count": 47,
   "metadata": {
    "collapsed": false
   },
   "outputs": [
    {
     "name": "stdout",
     "output_type": "stream",
     "text": [
      "K for internal metric (Calinski Harabaz Index):  3\n",
      "K for external metric (Adjusted Rand):  4\n"
     ]
    }
   ],
   "source": [
    "# Showing the k values for different metrics\n",
    "print('K for internal metric (Calinski Harabaz Index): ', best_internal_k)\n",
    "print('K for external metric (Adjusted Rand): ', best_external_k)"
   ]
  },
  {
   "cell_type": "markdown",
   "metadata": {},
   "source": [
    "## Gráficas das métricas internas e externas segundo o K"
   ]
  },
  {
   "cell_type": "code",
   "execution_count": 48,
   "metadata": {
    "collapsed": false
   },
   "outputs": [
    {
     "data": {
      "image/png": "[encoded data removed]",
      "text/plain": [
       "<matplotlib.figure.Figure at 0x7fbe8e772710>"
      ]
     },
     "metadata": {},
     "output_type": "display_data"
    }
   ],
   "source": [
    "# Plotting charts with internal and external metrics\n",
    "fig_width = 16\n",
    "fig_height = 4\n",
    "fig_dpi = 100\n",
    "plt.figure(figsize=(fig_width, fig_height), dpi=fig_dpi)\n",
    "plt.figure(1)\n",
    "plt.subplot(121) # Grid 1 x 2. Figure #1\n",
    "plt.plot(matrix_plot[0], matrix_plot[1], '#ff5722', marker='o', linestyle='-')\n",
    "plt.xlabel('Number of clusters')\n",
    "plt.ylabel('Calinski Harabaz Index')\n",
    "\n",
    "plt.subplot(122) # Grid 1 x 2. Figure #2\n",
    "plt.plot(matrix_plot[0], matrix_plot[2], '#009688', marker='o', linestyle='-')\n",
    "plt.xlabel('Number of clusters')\n",
    "plt.ylabel('Adjusted Rand Index')\n",
    "plt.show()"
   ]
  }
 ],
 "metadata": {
  "anaconda-cloud": {},
  "kernelspec": {
   "display_name": "Python [Root]",
   "language": "python",
   "name": "Python [Root]"
  },
  "language_info": {
   "codemirror_mode": {
    "name": "ipython",
    "version": 3
   },
   "file_extension": ".py",
   "mimetype": "text/x-python",
   "name": "python",
   "nbconvert_exporter": "python",
   "pygments_lexer": "ipython3",
   "version": "3.5.2"
  }
 },
 "nbformat": 4,
 "nbformat_minor": 0
}
