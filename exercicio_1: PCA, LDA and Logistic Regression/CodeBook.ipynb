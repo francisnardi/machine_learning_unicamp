{
 "cells": [
  {
   "cell_type": "markdown",
   "metadata": {},
   "source": [
    "**Titulo:** Exercício 1 - PCA, regressão logística e LDA<br/>\n",
    "**Autor:** Juan Sebastián Beleño Díaz<br/>\n",
    "**Data:** 20 de Setembro de 2016<br/>\n",
    "\n",
    "Neste trabalho são comparados diferentes métodos de classificação sobre um conjunto de dados de treinamento e de teste. Os métodos de classificação são Linear Discriminant Analysis(LDA) e Regressão Logística. No entanto, o conjunto de dados deste exercício contém um grande número de colunas; assim, vamos implementar um PCA sobre os dados, comparando a precisão dos métodos de classificação sobre os dados reduzidos por o PCA e sobre os dados iniciais.\n",
    "\n",
    "## Dados\n",
    "O arquivo base deste trabalho é [data1.csv](http://www.ic.unicamp.br/~wainer/cursos/2s2016/ml/data1.csv); o arquivo contém 167 colunas e 476 filas. As primeiras 166 colunas do conjunto de dados tem um nome f{n} onde n é um número incremental desde 1 até 166; a coluna 167 é a clase à que pertence cada fila.\n",
    "\n",
    "## Transformação dos dados\n",
    "Antes de começar a trablahar com os dados é preciso incluir as dependecias do projeto:"
   ]
  },
  {
   "cell_type": "code",
   "execution_count": 1,
   "metadata": {
    "collapsed": false
   },
   "outputs": [],
   "source": [
    "#!/home/juan/anaconda3/bin/python3.5\n",
    "import numpy as np\n",
    "import pandas as pd\n",
    "\n",
    "from sklearn.decomposition import PCA\n",
    "from sklearn.linear_model import LogisticRegression\n",
    "from sklearn.discriminant_analysis import LinearDiscriminantAnalysis"
   ]
  },
  {
   "cell_type": "markdown",
   "metadata": {},
   "source": [
    "Existem muitas maneiras de abrir o arquivo csv com os dados, mas neste caso vamos usar pandas para obter o dataframe diretamente desde a URL."
   ]
  },
  {
   "cell_type": "code",
   "execution_count": 2,
   "metadata": {
    "collapsed": false
   },
   "outputs": [],
   "source": [
    "df = pd.read_csv('http://www.ic.unicamp.br/~wainer/cursos/2s2016/ml/data1.csv')"
   ]
  },
  {
   "cell_type": "markdown",
   "metadata": {},
   "source": [
    "Definimos um conjunto de constantes que vão nos permitir trabalhar mais facilmente com o conjunto de treinamento e de teste."
   ]
  },
  {
   "cell_type": "code",
   "execution_count": 3,
   "metadata": {
    "collapsed": false
   },
   "outputs": [],
   "source": [
    "ncolumns = len(df.columns) #167 columns\n",
    "ncolumns_without_class = ncolumns - 1 # 166 columns\n",
    "ntraining_rows = 200\n",
    "ntest_rows = 276"
   ]
  },
  {
   "cell_type": "markdown",
   "metadata": {},
   "source": [
    "Separamos o conjunto de dados de treinamento(primeiras 200 linhas) e de teste(últimas 276 linhas)."
   ]
  },
  {
   "cell_type": "code",
   "execution_count": 4,
   "metadata": {
    "collapsed": false
   },
   "outputs": [],
   "source": [
    "# Removing the column 'clase' \n",
    "df_without_class = df.iloc[:, 0:ncolumns_without_class]\n",
    "\n",
    "# Getting the training set from the first 200 lines\n",
    "df_training_set = df_without_class[0:ntraining_rows]\n",
    "\n",
    "# Getting the test data frame from the last 276 lines\n",
    "df_test_set = df.iloc[ntraining_rows: (ntest_rows + ntraining_rows), 0:ncolumns_without_class]\n",
    "\n",
    "# Getting the 'clase' column for the training data\n",
    "results_training_set = df.iloc[0:ntraining_rows,ncolumns_without_class:ncolumns]\n",
    "results_training_set = np.ravel(results_training_set) # convert column vector to vector\n",
    "\n",
    "# Getting the 'clase' column for the test data\n",
    "results_test_set = df.iloc[ntraining_rows: (ntest_rows + ntraining_rows),ncolumns_without_class:ncolumns]\n",
    "results_test_set = np.ravel(results_test_set) # convert column vector to vector"
   ]
  },
  {
   "cell_type": "markdown",
   "metadata": {},
   "source": [
    "## Principal Component Analysis (PCA)\n",
    "O PCA é um método que serve para reduzir a dimensionalidade dos dados, baseandose em transformações nos eixos das dimensões originais. Este método às vezes é muito útil para diminuir a complexidade de alguns problemas de classifição; assim, vamos a implementar um PCA mantendo o 80% de variânza sobre os nossos dados.\n"
   ]
  },
  {
   "cell_type": "code",
   "execution_count": 5,
   "metadata": {
    "collapsed": false
   },
   "outputs": [
    {
     "name": "stdout",
     "output_type": "stream",
     "text": [
      "Número de componentes no PCA:  12\n"
     ]
    }
   ],
   "source": [
    "# Applying the PCA\n",
    "pca = PCA(n_components= ncolumns_without_class)\n",
    "pca.fit(df_training_set)\n",
    "\n",
    "# Getting the cumulative variance\n",
    "variance_acum = pca.explained_variance_ratio_.cumsum()\n",
    "\n",
    "# Finding the number of components to keep the variance over 80%\n",
    "ncomp = 0\n",
    "var_max = 0.8\n",
    "\n",
    "for i in range(0, ncolumns_without_class):\n",
    "    if(variance_acum[i] >= var_max):\n",
    "        ncomp = i + 1 # For this training data set ncomp = 12\n",
    "        break\n",
    "\n",
    "print('Número de componentes no PCA: ', ncomp)\n",
    "    \n",
    "# Applying the dimensionality reduction based on the variance for the training data\n",
    "pca = PCA(n_components= ncomp)\n",
    "pca.fit(df_training_set)\n",
    "df_training_set_reduced = pca.transform(df_training_set) # Array != Data Frame\n",
    "    \n",
    "# Applying the dimensionality reduction based on the variance for the test dataset\n",
    "pca = PCA(n_components= ncomp)\n",
    "pca.fit(df_training_set)\n",
    "df_test_set_reduced = pca.transform(df_test_set)"
   ]
  },
  {
   "cell_type": "markdown",
   "metadata": {},
   "source": [
    "## Regressão Logística\n",
    "Um método de classificação executado sobre o conjunto de dados com o PCA e sobre os dados sem o PCA."
   ]
  },
  {
   "cell_type": "code",
   "execution_count": 6,
   "metadata": {
    "collapsed": false,
    "scrolled": true
   },
   "outputs": [
    {
     "name": "stdout",
     "output_type": "stream",
     "text": [
      "Acurácia Regressão Logística com PCA:  0.800724637681\n",
      "Acurácia Regressão Logística sem PCA:  0.797101449275\n"
     ]
    }
   ],
   "source": [
    "# setting up the regression models with and without PCA\n",
    "model_with_pca = LogisticRegression().fit(df_training_set_reduced, results_training_set)\n",
    "model_without_pca = LogisticRegression().fit(df_training_set, results_training_set)\n",
    "\n",
    "\n",
    "# Testing\n",
    "score_rl_pca = model_with_pca.score(df_test_set_reduced, results_test_set) # 0.80072\n",
    "score_rl_no_pca = model_without_pca.score(df_test_set, results_test_set) # 0.79710\n",
    "\n",
    "# Print\n",
    "print ('Acurácia Regressão Logística com PCA: ', score_rl_pca)\n",
    "print ('Acurácia Regressão Logística sem PCA: ', score_rl_no_pca)"
   ]
  },
  {
   "cell_type": "markdown",
   "metadata": {},
   "source": [
    "## Linear Discriminant Analysis (LDA)\n",
    "Outro método de classificação executado sobre o conjunto de dados com o PCA e sobre os dados sem o PCA."
   ]
  },
  {
   "cell_type": "code",
   "execution_count": 7,
   "metadata": {
    "collapsed": false
   },
   "outputs": [
    {
     "name": "stdout",
     "output_type": "stream",
     "text": [
      "Acurácia LDA com PCA:  0.778985507246\n",
      "Acurácia LDA sem PCA:  0.677536231884\n"
     ]
    }
   ],
   "source": [
    "# Setting up the LDA with and without PCA\n",
    "lda_model_with_pca = LinearDiscriminantAnalysis()\n",
    "lda_model_with_pca.fit(df_training_set_reduced, results_training_set)\n",
    "\n",
    "lda_model_without_pca = LinearDiscriminantAnalysis()\n",
    "lda_model_without_pca.fit(df_training_set, results_training_set)\n",
    "\n",
    "# Testing the LDA model accuracy with the test dataset\n",
    "score_lda_pca = lda_model_with_pca.score(df_test_set_reduced, results_test_set) # 0.77898\n",
    "score_lda_no_pca = lda_model_without_pca.score(df_test_set, results_test_set) # 0.67753\n",
    "\n",
    "# Print\n",
    "print ('Acurácia LDA com PCA: ', score_lda_pca)\n",
    "print ('Acurácia LDA sem PCA: ', score_lda_no_pca)"
   ]
  },
  {
   "cell_type": "markdown",
   "metadata": {},
   "source": [
    "## Conclusões\n",
    "O melhor método neste conjunto de dados foi a Regressão Logística sobre dados com o PCA com uma acurácia de **80.072%**. De maneira geral, o uso de dados de dimensionalidade reduzida por o PCA neste conjunto de dados foi vantajoso para os dois métodos de classificação e o método de Regressão Logística teve maior acurácia do que o LDA."
   ]
  }
 ],
 "metadata": {
  "anaconda-cloud": {},
  "kernelspec": {
   "display_name": "Python [Root]",
   "language": "python",
   "name": "Python [Root]"
  },
  "language_info": {
   "codemirror_mode": {
    "name": "ipython",
    "version": 3
   },
   "file_extension": ".py",
   "mimetype": "text/x-python",
   "name": "python",
   "nbconvert_exporter": "python",
   "pygments_lexer": "ipython3",
   "version": "3.5.2"
  }
 },
 "nbformat": 4,
 "nbformat_minor": 0
}
